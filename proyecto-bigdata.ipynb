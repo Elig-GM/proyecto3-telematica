{
 "cells": [
  {
   "cell_type": "code",
   "execution_count": 1,
   "metadata": {},
   "outputs": [
    {
     "data": {
      "application/vnd.jupyter.widget-view+json": {
       "model_id": "3c0be85a8be34ac4b71f7f13117d6f54",
       "version_major": 2,
       "version_minor": 0
      },
      "text/plain": [
       "VBox()"
      ]
     },
     "metadata": {},
     "output_type": "display_data"
    },
    {
     "name": "stdout",
     "output_type": "stream",
     "text": [
      "Starting Spark application\n"
     ]
    },
    {
     "data": {
      "text/html": [
       "<table>\n",
       "<tr><th>ID</th><th>YARN Application ID</th><th>Kind</th><th>State</th><th>Spark UI</th><th>Driver log</th><th>Current session?</th></tr><tr><td>0</td><td>application_1606957722427_0001</td><td>pyspark</td><td>idle</td><td><a target=\"_blank\" href=\"http://ip-172-31-40-151.ec2.internal:20888/proxy/application_1606957722427_0001/\" >Link</a></td><td><a target=\"_blank\" href=\"http://ip-172-31-44-19.ec2.internal:8042/node/containerlogs/container_1606957722427_0001_01_000001/livy\" >Link</a></td><td>✔</td></tr></table>"
      ],
      "text/plain": [
       "<IPython.core.display.HTML object>"
      ]
     },
     "metadata": {},
     "output_type": "display_data"
    },
    {
     "data": {
      "application/vnd.jupyter.widget-view+json": {
       "model_id": "",
       "version_major": 2,
       "version_minor": 0
      },
      "text/plain": [
       "FloatProgress(value=0.0, bar_style='info', description='Progress:', layout=Layout(height='25px', width='50%'),…"
      ]
     },
     "metadata": {},
     "output_type": "display_data"
    },
    {
     "name": "stdout",
     "output_type": "stream",
     "text": [
      "SparkSession available as 'spark'.\n"
     ]
    },
    {
     "data": {
      "application/vnd.jupyter.widget-view+json": {
       "model_id": "",
       "version_major": 2,
       "version_minor": 0
      },
      "text/plain": [
       "FloatProgress(value=0.0, bar_style='info', description='Progress:', layout=Layout(height='25px', width='50%'),…"
      ]
     },
     "metadata": {},
     "output_type": "display_data"
    },
    {
     "name": "stdout",
     "output_type": "stream",
     "text": [
      "<pyspark.sql.session.SparkSession object at 0x7f06f3c4b3d0>"
     ]
    }
   ],
   "source": [
    "spark"
   ]
  },
  {
   "cell_type": "code",
   "execution_count": 2,
   "metadata": {},
   "outputs": [
    {
     "data": {
      "application/vnd.jupyter.widget-view+json": {
       "model_id": "ced852c197c94f019a7c16a3c61d2243",
       "version_major": 2,
       "version_minor": 0
      },
      "text/plain": [
       "VBox()"
      ]
     },
     "metadata": {},
     "output_type": "display_data"
    },
    {
     "data": {
      "application/vnd.jupyter.widget-view+json": {
       "model_id": "",
       "version_major": 2,
       "version_minor": 0
      },
      "text/plain": [
       "FloatProgress(value=0.0, bar_style='info', description='Progress:', layout=Layout(height='25px', width='50%'),…"
      ]
     },
     "metadata": {},
     "output_type": "display_data"
    }
   ],
   "source": [
    "from datetime import date\n",
    "today = date.today()\n",
    "\n",
    "day = today.strftime(\"%d-%m-%Y\")\n",
    "\n",
    "datos = spark.read.csv('s3://proyecto-bigdata/raw/datos-{0}.csv'.format(day), inferSchema=True, header=True)"
   ]
  },
  {
   "cell_type": "code",
   "execution_count": 3,
   "metadata": {},
   "outputs": [
    {
     "data": {
      "application/vnd.jupyter.widget-view+json": {
       "model_id": "30d6bb8c90ad45c1b05332f5d566d4f7",
       "version_major": 2,
       "version_minor": 0
      },
      "text/plain": [
       "VBox()"
      ]
     },
     "metadata": {},
     "output_type": "display_data"
    },
    {
     "data": {
      "application/vnd.jupyter.widget-view+json": {
       "model_id": "",
       "version_major": 2,
       "version_minor": 0
      },
      "text/plain": [
       "FloatProgress(value=0.0, bar_style='info', description='Progress:', layout=Layout(height='25px', width='50%'),…"
      ]
     },
     "metadata": {},
     "output_type": "display_data"
    },
    {
     "name": "stdout",
     "output_type": "stream",
     "text": [
      "+-----------------+----------+---------------------+------------+----------------+----------------+--------------------+----+-------------+----+--------------------+---------+------+----------------+----------------+----------+---------------------+------------+-----------------+-----------------+-----------------+--------+----------+\n",
      "|fecha_reporte_web|id_de_caso|fecha_de_notificaci_n|departamento|departamento_nom|ciudad_municipio|ciudad_municipio_nom|edad|unidad_medida|sexo|fuente_tipo_contagio|ubicacion|estado|pais_viajo_1_cod|pais_viajo_1_nom|recuperado|fecha_inicio_sintomas|fecha_muerte|fecha_diagnostico| fecha_recuperado|tipo_recuperacion|per_etn_|nom_grupo_|\n",
      "+-----------------+----------+---------------------+------------+----------------+----------------+--------------------+----+-------------+----+--------------------+---------+------+----------------+----------------+----------+---------------------+------------+-----------------+-----------------+-----------------+--------+----------+\n",
      "| 6/3/2020 0:00:00|         1|     2/3/2020 0:00:00|          11|          BOGOTA|           11001|              BOGOTA|  19|            1|   F|           Importado|     Casa|  Leve|             380|          ITALIA|Recuperado|    27/2/2020 0:00:00|        null| 6/3/2020 0:00:00|13/3/2020 0:00:00|              PCR|       6|      null|\n",
      "| 9/3/2020 0:00:00|         2|     6/3/2020 0:00:00|          76|           VALLE|           76111|                BUGA|  34|            1|   M|           Importado|     Casa|  Leve|             724|          ESPAÑA|Recuperado|     4/3/2020 0:00:00|        null| 9/3/2020 0:00:00|19/3/2020 0:00:00|              PCR|       5|      null|\n",
      "| 9/3/2020 0:00:00|         3|     7/3/2020 0:00:00|           5|       ANTIOQUIA|            5001|            MEDELLIN|  50|            1|   F|           Importado|     Casa|  Leve|             724|          ESPAÑA|Recuperado|    29/2/2020 0:00:00|        null| 9/3/2020 0:00:00|15/3/2020 0:00:00|              PCR|       6|      null|\n",
      "|11/3/2020 0:00:00|         4|     9/3/2020 0:00:00|           5|       ANTIOQUIA|            5001|            MEDELLIN|  55|            1|   M|         Relacionado|     Casa|  Leve|            null|            null|Recuperado|     6/3/2020 0:00:00|        null|11/3/2020 0:00:00|26/3/2020 0:00:00|              PCR|       6|      null|\n",
      "|11/3/2020 0:00:00|         5|     9/3/2020 0:00:00|           5|       ANTIOQUIA|            5001|            MEDELLIN|  25|            1|   M|         Relacionado|     Casa|  Leve|            null|            null|Recuperado|     8/3/2020 0:00:00|        null|11/3/2020 0:00:00|23/3/2020 0:00:00|              PCR|       6|      null|\n",
      "|11/3/2020 0:00:00|         6|    10/3/2020 0:00:00|           5|       ANTIOQUIA|            5360|              ITAGUI|  27|            1|   F|         Relacionado|     Casa|  Leve|            null|            null|Recuperado|     6/3/2020 0:00:00|        null|11/3/2020 0:00:00|26/3/2020 0:00:00|              PCR|       6|      null|\n",
      "|11/3/2020 0:00:00|         7|     8/3/2020 0:00:00|       13001|       CARTAGENA|           13001|           CARTAGENA|  85|            1|   F|           Importado|     Casa|  Leve|             840|  ESTADOS UNIDOS|Recuperado|     2/3/2020 0:00:00|        null|11/3/2020 0:00:00|17/3/2020 0:00:00|              PCR|       6|      null|\n",
      "|11/3/2020 0:00:00|         8|     9/3/2020 0:00:00|          11|          BOGOTA|           11001|              BOGOTA|  22|            1|   F|           Importado|     Casa|  Leve|             724|          ESPAÑA|Recuperado|     6/3/2020 0:00:00|        null|11/3/2020 0:00:00|21/3/2020 0:00:00|              PCR|       6|      null|\n",
      "|11/3/2020 0:00:00|         9|     8/3/2020 0:00:00|          11|          BOGOTA|           11001|              BOGOTA|  28|            1|   F|           Importado|     Casa|  Leve|             724|          ESPAÑA|Recuperado|     7/3/2020 0:00:00|        null|11/3/2020 0:00:00|23/3/2020 0:00:00|              PCR|       6|      null|\n",
      "|12/3/2020 0:00:00|        10|    12/3/2020 0:00:00|          11|          BOGOTA|           11001|              BOGOTA|  36|            1|   F|           Importado|     Casa|  Leve|             724|          ESPAÑA|Recuperado|     6/3/2020 0:00:00|        null|12/3/2020 0:00:00|21/3/2020 0:00:00|              PCR|       6|      null|\n",
      "+-----------------+----------+---------------------+------------+----------------+----------------+--------------------+----+-------------+----+--------------------+---------+------+----------------+----------------+----------+---------------------+------------+-----------------+-----------------+-----------------+--------+----------+\n",
      "only showing top 10 rows"
     ]
    }
   ],
   "source": [
    "datos.show(10)"
   ]
  },
  {
   "cell_type": "code",
   "execution_count": 4,
   "metadata": {},
   "outputs": [
    {
     "data": {
      "application/vnd.jupyter.widget-view+json": {
       "model_id": "a63ba97d772f47b18058174b154b6a83",
       "version_major": 2,
       "version_minor": 0
      },
      "text/plain": [
       "VBox()"
      ]
     },
     "metadata": {},
     "output_type": "display_data"
    },
    {
     "data": {
      "application/vnd.jupyter.widget-view+json": {
       "model_id": "",
       "version_major": 2,
       "version_minor": 0
      },
      "text/plain": [
       "FloatProgress(value=0.0, bar_style='info', description='Progress:', layout=Layout(height='25px', width='50%'),…"
      ]
     },
     "metadata": {},
     "output_type": "display_data"
    }
   ],
   "source": [
    "datos_limpios = datos.drop('ciudad_municipio','departamento','unidad_medida','pais_viajo_1_cod','per_etn_','nom_grupo_')"
   ]
  },
  {
   "cell_type": "code",
   "execution_count": 5,
   "metadata": {},
   "outputs": [
    {
     "data": {
      "application/vnd.jupyter.widget-view+json": {
       "model_id": "0b7e0a7ca1e74f7ab96038fe3021896a",
       "version_major": 2,
       "version_minor": 0
      },
      "text/plain": [
       "VBox()"
      ]
     },
     "metadata": {},
     "output_type": "display_data"
    },
    {
     "data": {
      "application/vnd.jupyter.widget-view+json": {
       "model_id": "",
       "version_major": 2,
       "version_minor": 0
      },
      "text/plain": [
       "FloatProgress(value=0.0, bar_style='info', description='Progress:', layout=Layout(height='25px', width='50%'),…"
      ]
     },
     "metadata": {},
     "output_type": "display_data"
    },
    {
     "name": "stdout",
     "output_type": "stream",
     "text": [
      "+-----------------+----------+---------------------+----------------+--------------------+----+----+--------------------+---------+------+----------------+----------+---------------------+------------+-----------------+-----------------+-----------------+--------+\n",
      "|fecha_reporte_web|id_de_caso|fecha_de_notificaci_n|departamento_nom|ciudad_municipio_nom|edad|sexo|fuente_tipo_contagio|ubicacion|estado|pais_viajo_1_nom|recuperado|fecha_inicio_sintomas|fecha_muerte|fecha_diagnostico| fecha_recuperado|tipo_recuperacion|   Etapa|\n",
      "+-----------------+----------+---------------------+----------------+--------------------+----+----+--------------------+---------+------+----------------+----------+---------------------+------------+-----------------+-----------------+-----------------+--------+\n",
      "| 6/3/2020 0:00:00|         1|     2/3/2020 0:00:00|          BOGOTA|              BOGOTA|  19|   F|           Importado|     Casa|  Leve|          ITALIA|Recuperado|    27/2/2020 0:00:00|        null| 6/3/2020 0:00:00|13/3/2020 0:00:00|              PCR|juventud|\n",
      "| 9/3/2020 0:00:00|         2|     6/3/2020 0:00:00|           VALLE|                BUGA|  34|   M|           Importado|     Casa|  Leve|          ESPAÑA|Recuperado|     4/3/2020 0:00:00|        null| 9/3/2020 0:00:00|19/3/2020 0:00:00|              PCR| adultez|\n",
      "| 9/3/2020 0:00:00|         3|     7/3/2020 0:00:00|       ANTIOQUIA|            MEDELLIN|  50|   F|           Importado|     Casa|  Leve|          ESPAÑA|Recuperado|    29/2/2020 0:00:00|        null| 9/3/2020 0:00:00|15/3/2020 0:00:00|              PCR| adultez|\n",
      "|11/3/2020 0:00:00|         4|     9/3/2020 0:00:00|       ANTIOQUIA|            MEDELLIN|  55|   M|         Relacionado|     Casa|  Leve|            null|Recuperado|     6/3/2020 0:00:00|        null|11/3/2020 0:00:00|26/3/2020 0:00:00|              PCR| adultez|\n",
      "|11/3/2020 0:00:00|         5|     9/3/2020 0:00:00|       ANTIOQUIA|            MEDELLIN|  25|   M|         Relacionado|     Casa|  Leve|            null|Recuperado|     8/3/2020 0:00:00|        null|11/3/2020 0:00:00|23/3/2020 0:00:00|              PCR|juventud|\n",
      "|11/3/2020 0:00:00|         6|    10/3/2020 0:00:00|       ANTIOQUIA|              ITAGUI|  27|   F|         Relacionado|     Casa|  Leve|            null|Recuperado|     6/3/2020 0:00:00|        null|11/3/2020 0:00:00|26/3/2020 0:00:00|              PCR| adultez|\n",
      "|11/3/2020 0:00:00|         7|     8/3/2020 0:00:00|       CARTAGENA|           CARTAGENA|  85|   F|           Importado|     Casa|  Leve|  ESTADOS UNIDOS|Recuperado|     2/3/2020 0:00:00|        null|11/3/2020 0:00:00|17/3/2020 0:00:00|              PCR|   vejez|\n",
      "|11/3/2020 0:00:00|         8|     9/3/2020 0:00:00|          BOGOTA|              BOGOTA|  22|   F|           Importado|     Casa|  Leve|          ESPAÑA|Recuperado|     6/3/2020 0:00:00|        null|11/3/2020 0:00:00|21/3/2020 0:00:00|              PCR|juventud|\n",
      "|11/3/2020 0:00:00|         9|     8/3/2020 0:00:00|          BOGOTA|              BOGOTA|  28|   F|           Importado|     Casa|  Leve|          ESPAÑA|Recuperado|     7/3/2020 0:00:00|        null|11/3/2020 0:00:00|23/3/2020 0:00:00|              PCR| adultez|\n",
      "|12/3/2020 0:00:00|        10|    12/3/2020 0:00:00|          BOGOTA|              BOGOTA|  36|   F|           Importado|     Casa|  Leve|          ESPAÑA|Recuperado|     6/3/2020 0:00:00|        null|12/3/2020 0:00:00|21/3/2020 0:00:00|              PCR| adultez|\n",
      "|12/3/2020 0:00:00|        11|    11/3/2020 0:00:00|          BOGOTA|              BOGOTA|  42|   F|           Importado|     Casa|  Leve|          ESPAÑA|Recuperado|     6/3/2020 0:00:00|        null|12/3/2020 0:00:00|31/3/2020 0:00:00|              PCR| adultez|\n",
      "|12/3/2020 0:00:00|        12|    10/3/2020 0:00:00|           HUILA|               NEIVA|  74|   F|           Importado|     Casa|  Leve|          ITALIA|Recuperado|     6/3/2020 0:00:00|        null|12/3/2020 0:00:00| 9/4/2020 0:00:00|              PCR|   vejez|\n",
      "|12/3/2020 0:00:00|        13|    10/3/2020 0:00:00|           HUILA|               NEIVA|  68|   F|         Relacionado|     Casa|  Leve|            null|Recuperado|     6/3/2020 0:00:00|        null|12/3/2020 0:00:00|30/3/2020 0:00:00|              PCR|   vejez|\n",
      "|13/3/2020 0:00:00|        14|    10/3/2020 0:00:00|           VALLE|             PALMIRA|  48|   M|           Importado|     Casa|  Leve|          ESPAÑA|Recuperado|     7/3/2020 0:00:00|        null|13/3/2020 0:00:00|21/3/2020 0:00:00|              PCR| adultez|\n",
      "|13/3/2020 0:00:00|        15|    13/3/2020 0:00:00|            META|       VILLAVICENCIO|  30|   F|           Importado|     Casa|  Leve|          ESPAÑA|Recuperado|     9/3/2020 0:00:00|        null|13/3/2020 0:00:00|23/3/2020 0:00:00|              PCR| adultez|\n",
      "|13/3/2020 0:00:00|        16|    11/3/2020 0:00:00|          BOGOTA|              BOGOTA|  61|   F|           Importado|     Casa|  Leve|          ITALIA|Recuperado|     8/3/2020 0:00:00|        null|13/3/2020 0:00:00|23/3/2020 0:00:00|              PCR|   vejez|\n",
      "|14/3/2020 0:00:00|        17|    11/3/2020 0:00:00|          BOGOTA|              BOGOTA|  73|   F|           Importado|     Casa|  Leve|          ESPAÑA|Recuperado|    28/2/2020 0:00:00|        null|14/3/2020 0:00:00|14/3/2020 0:00:00|              PCR|   vejez|\n",
      "|14/3/2020 0:00:00|        18|    11/3/2020 0:00:00|          BOGOTA|              BOGOTA|  54|   M|           Importado|     Casa|  Leve|          ESPAÑA|Recuperado|     7/3/2020 0:00:00|        null|14/3/2020 0:00:00| 7/4/2020 0:00:00|           Tiempo| adultez|\n",
      "|14/3/2020 0:00:00|        19|    12/3/2020 0:00:00|          BOGOTA|              BOGOTA|  54|   F|         Relacionado|     Casa|  Leve|            null|Recuperado|     9/3/2020 0:00:00|        null|14/3/2020 0:00:00|24/3/2020 0:00:00|              PCR| adultez|\n",
      "|14/3/2020 0:00:00|        20|    11/3/2020 0:00:00|       ANTIOQUIA|            MEDELLIN|  26|   F|         Relacionado|     Casa|  Leve|            null|Recuperado|     9/3/2020 0:00:00|        null|14/3/2020 0:00:00|24/3/2020 0:00:00|              PCR|juventud|\n",
      "+-----------------+----------+---------------------+----------------+--------------------+----+----+--------------------+---------+------+----------------+----------+---------------------+------------+-----------------+-----------------+-----------------+--------+\n",
      "only showing top 20 rows"
     ]
    }
   ],
   "source": [
    "def edad_etapa(edad):\n",
    "    etapa = ''\n",
    "    if (edad<=5):\n",
    "        etapa = 'primera infancia'\n",
    "    elif (5<edad<=11):\n",
    "        etapa = 'infancia'\n",
    "    elif (11<edad<=18):\n",
    "        etapa = 'adolescencia'\n",
    "    elif (18<edad<=26):\n",
    "        etapa = 'juventud'\n",
    "    elif (26<edad<=59):\n",
    "        etapa = 'adultez'\n",
    "    elif (edad>=60):\n",
    "        etapa = 'vejez'\n",
    "    return etapa\n",
    "\n",
    "#Agregar Columna\n",
    "etapa_udf = spark.udf.register('Etapas', edad_etapa)\n",
    "\n",
    "datos_limpios = datos_limpios.withColumn('Etapa', etapa_udf(datos['Edad']))\n",
    "\n",
    "datos_limpios.show()"
   ]
  },
  {
   "cell_type": "code",
   "execution_count": 6,
   "metadata": {},
   "outputs": [
    {
     "data": {
      "application/vnd.jupyter.widget-view+json": {
       "model_id": "974e97d6b0724aba99ed8f8a0ece2592",
       "version_major": 2,
       "version_minor": 0
      },
      "text/plain": [
       "VBox()"
      ]
     },
     "metadata": {},
     "output_type": "display_data"
    },
    {
     "data": {
      "application/vnd.jupyter.widget-view+json": {
       "model_id": "",
       "version_major": 2,
       "version_minor": 0
      },
      "text/plain": [
       "FloatProgress(value=0.0, bar_style='info', description='Progress:', layout=Layout(height='25px', width='50%'),…"
      ]
     },
     "metadata": {},
     "output_type": "display_data"
    }
   ],
   "source": [
    "datos_limpios = datos_limpios.fillna('COLOMBIA', subset=['pais_viajo_1_nom'])"
   ]
  },
  {
   "cell_type": "code",
   "execution_count": 7,
   "metadata": {
    "scrolled": true
   },
   "outputs": [
    {
     "data": {
      "application/vnd.jupyter.widget-view+json": {
       "model_id": "da71a2f69024457b97a972c59b999dd7",
       "version_major": 2,
       "version_minor": 0
      },
      "text/plain": [
       "VBox()"
      ]
     },
     "metadata": {},
     "output_type": "display_data"
    },
    {
     "data": {
      "application/vnd.jupyter.widget-view+json": {
       "model_id": "",
       "version_major": 2,
       "version_minor": 0
      },
      "text/plain": [
       "FloatProgress(value=0.0, bar_style='info', description='Progress:', layout=Layout(height='25px', width='50%'),…"
      ]
     },
     "metadata": {},
     "output_type": "display_data"
    },
    {
     "name": "stdout",
     "output_type": "stream",
     "text": [
      "+----------------+\n",
      "|pais_viajo_1_nom|\n",
      "+----------------+\n",
      "|          ITALIA|\n",
      "|          ESPAÑA|\n",
      "|          ESPAÑA|\n",
      "|        COLOMBIA|\n",
      "|        COLOMBIA|\n",
      "|        COLOMBIA|\n",
      "|  ESTADOS UNIDOS|\n",
      "|          ESPAÑA|\n",
      "|          ESPAÑA|\n",
      "|          ESPAÑA|\n",
      "|          ESPAÑA|\n",
      "|          ITALIA|\n",
      "|        COLOMBIA|\n",
      "|          ESPAÑA|\n",
      "|          ESPAÑA|\n",
      "|          ITALIA|\n",
      "|          ESPAÑA|\n",
      "|          ESPAÑA|\n",
      "|        COLOMBIA|\n",
      "|        COLOMBIA|\n",
      "+----------------+\n",
      "only showing top 20 rows"
     ]
    }
   ],
   "source": [
    "datos_limpios.select('pais_viajo_1_nom').show()"
   ]
  },
  {
   "cell_type": "code",
   "execution_count": 8,
   "metadata": {
    "scrolled": false
   },
   "outputs": [
    {
     "data": {
      "application/vnd.jupyter.widget-view+json": {
       "model_id": "f00a207c0174495eb9378856b726bd00",
       "version_major": 2,
       "version_minor": 0
      },
      "text/plain": [
       "VBox()"
      ]
     },
     "metadata": {},
     "output_type": "display_data"
    },
    {
     "data": {
      "application/vnd.jupyter.widget-view+json": {
       "model_id": "",
       "version_major": 2,
       "version_minor": 0
      },
      "text/plain": [
       "FloatProgress(value=0.0, bar_style='info', description='Progress:', layout=Layout(height='25px', width='50%'),…"
      ]
     },
     "metadata": {},
     "output_type": "display_data"
    },
    {
     "name": "stdout",
     "output_type": "stream",
     "text": [
      "+-----------------+----------+---------------------+----------------+--------------------+----+----+--------------------+---------+------+----------------+----------+---------------------+------------+-----------------+-----------------+-----------------+--------+\n",
      "|fecha_reporte_web|id_de_caso|fecha_de_notificaci_n|departamento_nom|ciudad_municipio_nom|edad|sexo|fuente_tipo_contagio|ubicacion|estado|pais_viajo_1_nom|recuperado|fecha_inicio_sintomas|fecha_muerte|fecha_diagnostico| fecha_recuperado|tipo_recuperacion|   Etapa|\n",
      "+-----------------+----------+---------------------+----------------+--------------------+----+----+--------------------+---------+------+----------------+----------+---------------------+------------+-----------------+-----------------+-----------------+--------+\n",
      "| 6/3/2020 0:00:00|         1|     2/3/2020 0:00:00|          BOGOTA|              BOGOTA|  19|   F|           Importado|     Casa|  Leve|          ITALIA|Recuperado|    27/2/2020 0:00:00|        null| 6/3/2020 0:00:00|13/3/2020 0:00:00|              PCR|juventud|\n",
      "| 9/3/2020 0:00:00|         2|     6/3/2020 0:00:00|           VALLE|                BUGA|  34|   M|           Importado|     Casa|  Leve|          ESPAÑA|Recuperado|     4/3/2020 0:00:00|        null| 9/3/2020 0:00:00|19/3/2020 0:00:00|              PCR| adultez|\n",
      "| 9/3/2020 0:00:00|         3|     7/3/2020 0:00:00|       ANTIOQUIA|            MEDELLIN|  50|   F|           Importado|     Casa|  Leve|          ESPAÑA|Recuperado|    29/2/2020 0:00:00|        null| 9/3/2020 0:00:00|15/3/2020 0:00:00|              PCR| adultez|\n",
      "|11/3/2020 0:00:00|         4|     9/3/2020 0:00:00|       ANTIOQUIA|            MEDELLIN|  55|   M|         Relacionado|     Casa|  Leve|        COLOMBIA|Recuperado|     6/3/2020 0:00:00|        null|11/3/2020 0:00:00|26/3/2020 0:00:00|              PCR| adultez|\n",
      "|11/3/2020 0:00:00|         5|     9/3/2020 0:00:00|       ANTIOQUIA|            MEDELLIN|  25|   M|         Relacionado|     Casa|  Leve|        COLOMBIA|Recuperado|     8/3/2020 0:00:00|        null|11/3/2020 0:00:00|23/3/2020 0:00:00|              PCR|juventud|\n",
      "+-----------------+----------+---------------------+----------------+--------------------+----+----+--------------------+---------+------+----------------+----------+---------------------+------------+-----------------+-----------------+-----------------+--------+\n",
      "only showing top 5 rows"
     ]
    }
   ],
   "source": [
    "datos_limpios.show(5)"
   ]
  },
  {
   "cell_type": "code",
   "execution_count": 9,
   "metadata": {
    "scrolled": true
   },
   "outputs": [
    {
     "data": {
      "application/vnd.jupyter.widget-view+json": {
       "model_id": "0477da4f5cef4fcab13afb7229200261",
       "version_major": 2,
       "version_minor": 0
      },
      "text/plain": [
       "VBox()"
      ]
     },
     "metadata": {},
     "output_type": "display_data"
    },
    {
     "data": {
      "application/vnd.jupyter.widget-view+json": {
       "model_id": "",
       "version_major": 2,
       "version_minor": 0
      },
      "text/plain": [
       "FloatProgress(value=0.0, bar_style='info', description='Progress:', layout=Layout(height='25px', width='50%'),…"
      ]
     },
     "metadata": {},
     "output_type": "display_data"
    }
   ],
   "source": [
    "from datetime import date\n",
    "\n",
    "today = date.today()\n",
    "\n",
    "d4 = today.strftime(\"%m-%d-%Y\")\n",
    "\n",
    "url = 's3://proyecto-bigdata/curated/{0}'.format(d4)\n",
    "\n",
    "datos_limpios.coalesce(1).write.format('csv').option('header','True').save(url)"
   ]
  },
  {
   "cell_type": "code",
   "execution_count": 10,
   "metadata": {},
   "outputs": [
    {
     "data": {
      "application/vnd.jupyter.widget-view+json": {
       "model_id": "6f40c1576247402a9f3bbba016bb87b5",
       "version_major": 2,
       "version_minor": 0
      },
      "text/plain": [
       "VBox()"
      ]
     },
     "metadata": {},
     "output_type": "display_data"
    },
    {
     "data": {
      "application/vnd.jupyter.widget-view+json": {
       "model_id": "",
       "version_major": 2,
       "version_minor": 0
      },
      "text/plain": [
       "FloatProgress(value=0.0, bar_style='info', description='Progress:', layout=Layout(height='25px', width='50%'),…"
      ]
     },
     "metadata": {},
     "output_type": "display_data"
    }
   ],
   "source": [
    "paises = datos_limpios.groupBy('pais_viajo_1_nom').count().orderBy('count', ascending=False)\n",
    "\n",
    "paises = paises.withColumnRenamed(\"pais_viajo_1_nom\",\"pais_donde_viajo\")"
   ]
  },
  {
   "cell_type": "code",
   "execution_count": 11,
   "metadata": {},
   "outputs": [
    {
     "data": {
      "application/vnd.jupyter.widget-view+json": {
       "model_id": "16c20fd406bb4c01bbb1278adaf845a0",
       "version_major": 2,
       "version_minor": 0
      },
      "text/plain": [
       "VBox()"
      ]
     },
     "metadata": {},
     "output_type": "display_data"
    },
    {
     "data": {
      "application/vnd.jupyter.widget-view+json": {
       "model_id": "",
       "version_major": 2,
       "version_minor": 0
      },
      "text/plain": [
       "FloatProgress(value=0.0, bar_style='info', description='Progress:', layout=Layout(height='25px', width='50%'),…"
      ]
     },
     "metadata": {},
     "output_type": "display_data"
    },
    {
     "name": "stdout",
     "output_type": "stream",
     "text": [
      "+--------------------+-----+\n",
      "|    pais_donde_viajo|count|\n",
      "+--------------------+-----+\n",
      "|            COLOMBIA|  524|\n",
      "|              ESPAÑA|  191|\n",
      "|      ESTADOS UNIDOS|  106|\n",
      "|             ECUADOR|   32|\n",
      "|              MÉXICO|   22|\n",
      "|              PANAMA|   15|\n",
      "|             TURQUÍA|   13|\n",
      "|REINO UNIDO DE GR...|   12|\n",
      "|         PUERTO RICO|   10|\n",
      "|              BRASIL|    9|\n",
      "|             JAMAICA|    9|\n",
      "|              ITALIA|    9|\n",
      "|             FRANCIA|    8|\n",
      "|ANTILLAS NEERLAND...|    7|\n",
      "|            ALEMANIA|    5|\n",
      "|              GRECIA|    4|\n",
      "|REPÚBLICA DOMINICANA|    3|\n",
      "|              EGIPTO|    2|\n",
      "|               CHILE|    2|\n",
      "|               ARUBA|    2|\n",
      "+--------------------+-----+\n",
      "only showing top 20 rows"
     ]
    }
   ],
   "source": [
    "paises.show()"
   ]
  },
  {
   "cell_type": "code",
   "execution_count": 12,
   "metadata": {},
   "outputs": [
    {
     "data": {
      "application/vnd.jupyter.widget-view+json": {
       "model_id": "61a9e0e918684e8ca0d02b8a6bc7a2f0",
       "version_major": 2,
       "version_minor": 0
      },
      "text/plain": [
       "VBox()"
      ]
     },
     "metadata": {},
     "output_type": "display_data"
    },
    {
     "data": {
      "application/vnd.jupyter.widget-view+json": {
       "model_id": "",
       "version_major": 2,
       "version_minor": 0
      },
      "text/plain": [
       "FloatProgress(value=0.0, bar_style='info', description='Progress:', layout=Layout(height='25px', width='50%'),…"
      ]
     },
     "metadata": {},
     "output_type": "display_data"
    }
   ],
   "source": [
    "recuperados_y_fallecidos_departamento = datos_limpios.groupBy('departamento_nom','recuperado').count().orderBy('count', ascending=False)"
   ]
  },
  {
   "cell_type": "code",
   "execution_count": 13,
   "metadata": {},
   "outputs": [
    {
     "data": {
      "application/vnd.jupyter.widget-view+json": {
       "model_id": "af137aa08644436393c53e6589f0c134",
       "version_major": 2,
       "version_minor": 0
      },
      "text/plain": [
       "VBox()"
      ]
     },
     "metadata": {},
     "output_type": "display_data"
    },
    {
     "data": {
      "application/vnd.jupyter.widget-view+json": {
       "model_id": "",
       "version_major": 2,
       "version_minor": 0
      },
      "text/plain": [
       "FloatProgress(value=0.0, bar_style='info', description='Progress:', layout=Layout(height='25px', width='50%'),…"
      ]
     },
     "metadata": {},
     "output_type": "display_data"
    },
    {
     "name": "stdout",
     "output_type": "stream",
     "text": [
      "+----------------+----------+-----+\n",
      "|departamento_nom|recuperado|count|\n",
      "+----------------+----------+-----+\n",
      "|          BOGOTA|Recuperado|  379|\n",
      "|           VALLE|Recuperado|  139|\n",
      "|       ANTIOQUIA|Recuperado|  105|\n",
      "|    CUNDINAMARCA|Recuperado|   45|\n",
      "|       CARTAGENA|Recuperado|   36|\n",
      "|       RISARALDA|Recuperado|   33|\n",
      "|    BARRANQUILLA|Recuperado|   29|\n",
      "|           HUILA|Recuperado|   28|\n",
      "|         QUINDIO|Recuperado|   23|\n",
      "|          BOGOTA| Fallecido|   22|\n",
      "| NORTE SANTANDER|Recuperado|   19|\n",
      "|           CESAR|Recuperado|   15|\n",
      "|          CALDAS|Recuperado|   15|\n",
      "|          TOLIMA|Recuperado|   14|\n",
      "|       SANTANDER|Recuperado|   12|\n",
      "|            META|Recuperado|   12|\n",
      "|           CAUCA|Recuperado|   11|\n",
      "|  STA MARTA D.E.|Recuperado|   10|\n",
      "|           VALLE| Fallecido|    8|\n",
      "|          NARIÑO|Recuperado|    5|\n",
      "+----------------+----------+-----+\n",
      "only showing top 20 rows"
     ]
    }
   ],
   "source": [
    "recuperados_y_fallecidos_departamento.show()"
   ]
  },
  {
   "cell_type": "code",
   "execution_count": 14,
   "metadata": {},
   "outputs": [
    {
     "data": {
      "application/vnd.jupyter.widget-view+json": {
       "model_id": "33ad0c6ceea34403a8222cf535485abb",
       "version_major": 2,
       "version_minor": 0
      },
      "text/plain": [
       "VBox()"
      ]
     },
     "metadata": {},
     "output_type": "display_data"
    },
    {
     "data": {
      "application/vnd.jupyter.widget-view+json": {
       "model_id": "",
       "version_major": 2,
       "version_minor": 0
      },
      "text/plain": [
       "FloatProgress(value=0.0, bar_style='info', description='Progress:', layout=Layout(height='25px', width='50%'),…"
      ]
     },
     "metadata": {},
     "output_type": "display_data"
    }
   ],
   "source": [
    "recuperados_y_fallecidos_etapa = datos_limpios.groupBy('Etapa','recuperado').count().orderBy('count', ascending=False)"
   ]
  },
  {
   "cell_type": "code",
   "execution_count": 15,
   "metadata": {},
   "outputs": [
    {
     "data": {
      "application/vnd.jupyter.widget-view+json": {
       "model_id": "957fa659adf9497e8388a6ae2bb05a92",
       "version_major": 2,
       "version_minor": 0
      },
      "text/plain": [
       "VBox()"
      ]
     },
     "metadata": {},
     "output_type": "display_data"
    },
    {
     "data": {
      "application/vnd.jupyter.widget-view+json": {
       "model_id": "",
       "version_major": 2,
       "version_minor": 0
      },
      "text/plain": [
       "FloatProgress(value=0.0, bar_style='info', description='Progress:', layout=Layout(height='25px', width='50%'),…"
      ]
     },
     "metadata": {},
     "output_type": "display_data"
    },
    {
     "name": "stdout",
     "output_type": "stream",
     "text": [
      "+----------------+----------+-----+\n",
      "|           Etapa|recuperado|count|\n",
      "+----------------+----------+-----+\n",
      "|         adultez|Recuperado|  629|\n",
      "|        juventud|Recuperado|  140|\n",
      "|           vejez|Recuperado|  137|\n",
      "|           vejez| Fallecido|   30|\n",
      "|    adolescencia|Recuperado|   28|\n",
      "|         adultez| Fallecido|   16|\n",
      "|        infancia|Recuperado|    8|\n",
      "|primera infancia|Recuperado|    8|\n",
      "|        juventud| Fallecido|    2|\n",
      "|         adultez|       N/A|    1|\n",
      "|           vejez|       N/A|    1|\n",
      "+----------------+----------+-----+"
     ]
    }
   ],
   "source": [
    "recuperados_y_fallecidos_etapa.show()"
   ]
  },
  {
   "cell_type": "code",
   "execution_count": 16,
   "metadata": {},
   "outputs": [
    {
     "data": {
      "application/vnd.jupyter.widget-view+json": {
       "model_id": "fc872a033fe34b1a8a756c00c110d7ed",
       "version_major": 2,
       "version_minor": 0
      },
      "text/plain": [
       "VBox()"
      ]
     },
     "metadata": {},
     "output_type": "display_data"
    },
    {
     "data": {
      "application/vnd.jupyter.widget-view+json": {
       "model_id": "",
       "version_major": 2,
       "version_minor": 0
      },
      "text/plain": [
       "FloatProgress(value=0.0, bar_style='info', description='Progress:', layout=Layout(height='25px', width='50%'),…"
      ]
     },
     "metadata": {},
     "output_type": "display_data"
    }
   ],
   "source": [
    "sexo = datos_limpios.groupBy('sexo').count().orderBy('count', ascending=False)"
   ]
  },
  {
   "cell_type": "code",
   "execution_count": 17,
   "metadata": {},
   "outputs": [
    {
     "data": {
      "application/vnd.jupyter.widget-view+json": {
       "model_id": "0e738024969d4fea824b6c0ddef97122",
       "version_major": 2,
       "version_minor": 0
      },
      "text/plain": [
       "VBox()"
      ]
     },
     "metadata": {},
     "output_type": "display_data"
    },
    {
     "data": {
      "application/vnd.jupyter.widget-view+json": {
       "model_id": "",
       "version_major": 2,
       "version_minor": 0
      },
      "text/plain": [
       "FloatProgress(value=0.0, bar_style='info', description='Progress:', layout=Layout(height='25px', width='50%'),…"
      ]
     },
     "metadata": {},
     "output_type": "display_data"
    },
    {
     "name": "stdout",
     "output_type": "stream",
     "text": [
      "+----+-----+\n",
      "|sexo|count|\n",
      "+----+-----+\n",
      "|   M|  520|\n",
      "|   F|  480|\n",
      "+----+-----+"
     ]
    }
   ],
   "source": [
    "sexo.show()"
   ]
  },
  {
   "cell_type": "code",
   "execution_count": 18,
   "metadata": {},
   "outputs": [
    {
     "data": {
      "application/vnd.jupyter.widget-view+json": {
       "model_id": "c5eb160f82a64676bfb8ddd395ca4a73",
       "version_major": 2,
       "version_minor": 0
      },
      "text/plain": [
       "VBox()"
      ]
     },
     "metadata": {},
     "output_type": "display_data"
    },
    {
     "data": {
      "application/vnd.jupyter.widget-view+json": {
       "model_id": "",
       "version_major": 2,
       "version_minor": 0
      },
      "text/plain": [
       "FloatProgress(value=0.0, bar_style='info', description='Progress:', layout=Layout(height='25px', width='50%'),…"
      ]
     },
     "metadata": {},
     "output_type": "display_data"
    }
   ],
   "source": [
    "sexo_recuperado = datos_limpios.groupBy('sexo','recuperado').count().orderBy('count', ascending=False)"
   ]
  },
  {
   "cell_type": "code",
   "execution_count": 19,
   "metadata": {},
   "outputs": [
    {
     "data": {
      "application/vnd.jupyter.widget-view+json": {
       "model_id": "3a1bc155de0449f0b75a6d602d9c3e83",
       "version_major": 2,
       "version_minor": 0
      },
      "text/plain": [
       "VBox()"
      ]
     },
     "metadata": {},
     "output_type": "display_data"
    },
    {
     "data": {
      "application/vnd.jupyter.widget-view+json": {
       "model_id": "",
       "version_major": 2,
       "version_minor": 0
      },
      "text/plain": [
       "FloatProgress(value=0.0, bar_style='info', description='Progress:', layout=Layout(height='25px', width='50%'),…"
      ]
     },
     "metadata": {},
     "output_type": "display_data"
    },
    {
     "name": "stdout",
     "output_type": "stream",
     "text": [
      "+----+----------+-----+\n",
      "|sexo|recuperado|count|\n",
      "+----+----------+-----+\n",
      "|   M|Recuperado|  488|\n",
      "|   F|Recuperado|  462|\n",
      "|   M| Fallecido|   30|\n",
      "|   F| Fallecido|   18|\n",
      "|   M|       N/A|    2|\n",
      "+----+----------+-----+"
     ]
    }
   ],
   "source": [
    "sexo_recuperado.show()"
   ]
  },
  {
   "cell_type": "code",
   "execution_count": 20,
   "metadata": {},
   "outputs": [
    {
     "data": {
      "application/vnd.jupyter.widget-view+json": {
       "model_id": "ccab35870d524affb507bb098b3ff522",
       "version_major": 2,
       "version_minor": 0
      },
      "text/plain": [
       "VBox()"
      ]
     },
     "metadata": {},
     "output_type": "display_data"
    },
    {
     "data": {
      "application/vnd.jupyter.widget-view+json": {
       "model_id": "",
       "version_major": 2,
       "version_minor": 0
      },
      "text/plain": [
       "FloatProgress(value=0.0, bar_style='info', description='Progress:', layout=Layout(height='25px', width='50%'),…"
      ]
     },
     "metadata": {},
     "output_type": "display_data"
    }
   ],
   "source": [
    "recuperados_muertos_medellin = datos_limpios.filter(datos_limpios.ciudad_municipio_nom == 'MEDELLIN').groupBy('ciudad_municipio_nom', 'recuperado').count().orderBy('count', ascending=False)"
   ]
  },
  {
   "cell_type": "code",
   "execution_count": 21,
   "metadata": {},
   "outputs": [
    {
     "data": {
      "application/vnd.jupyter.widget-view+json": {
       "model_id": "04afcda6cd284b9295bfa5c2116496ab",
       "version_major": 2,
       "version_minor": 0
      },
      "text/plain": [
       "VBox()"
      ]
     },
     "metadata": {},
     "output_type": "display_data"
    },
    {
     "data": {
      "application/vnd.jupyter.widget-view+json": {
       "model_id": "",
       "version_major": 2,
       "version_minor": 0
      },
      "text/plain": [
       "FloatProgress(value=0.0, bar_style='info', description='Progress:', layout=Layout(height='25px', width='50%'),…"
      ]
     },
     "metadata": {},
     "output_type": "display_data"
    },
    {
     "name": "stdout",
     "output_type": "stream",
     "text": [
      "+--------------------+----------+-----+\n",
      "|ciudad_municipio_nom|recuperado|count|\n",
      "+--------------------+----------+-----+\n",
      "|            MEDELLIN|Recuperado|   63|\n",
      "+--------------------+----------+-----+"
     ]
    }
   ],
   "source": [
    "recuperados_muertos_medellin.show()"
   ]
  }
 ],
 "metadata": {
  "kernelspec": {
   "display_name": "PySpark",
   "language": "",
   "name": "pysparkkernel"
  },
  "language_info": {
   "codemirror_mode": {
    "name": "python",
    "version": 3
   },
   "mimetype": "text/x-python",
   "name": "pyspark",
   "pygments_lexer": "python3"
  }
 },
 "nbformat": 4,
 "nbformat_minor": 4
}
